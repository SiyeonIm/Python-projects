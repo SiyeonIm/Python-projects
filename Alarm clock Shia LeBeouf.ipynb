{
 "cells": [
  {
   "cell_type": "code",
   "execution_count": null,
   "metadata": {},
   "outputs": [],
   "source": [
    "pip install playsound"
   ]
  },
  {
   "cell_type": "code",
   "execution_count": null,
   "metadata": {},
   "outputs": [],
   "source": [
    "pip install -U PyObjC"
   ]
  },
  {
   "cell_type": "code",
   "execution_count": null,
   "metadata": {},
   "outputs": [],
   "source": [
    "#based on; https://www.youtube.com/watch?v=fwMdqqu_yOQ&ab_channel=MaxCodez\n",
    "#hmm.. this doesn't work\n",
    "\n",
    "import time\n",
    "from playsound import playsound\n",
    "from datetime import datetime\n",
    "\n",
    "hour = int(input(\"what hour? put it in military time plz \"))\n",
    "minute = int(input(\"what minute? \"))\n",
    "\n",
    "alarmtime = \"hour:minute\"\n",
    "\n",
    "while True:\n",
    "    lcltime = datetime.now().strftime('%H:%M')\n",
    "    if lcltime == alarmtime:\n",
    "        playsound(\"shia_labeouf.wav\")\n",
    "        break\n",
    "    else:\n",
    "        print(\"not yet\")\n",
    "        time.sleep(1)\n",
    "#    if (hour == datetime.datetime.now().housr and minute == datetime.datetime.now().minute):       \n",
    "#        break\n",
    "\n",
    "\n",
    "\n"
   ]
  },
  {
   "cell_type": "code",
   "execution_count": 1,
   "metadata": {},
   "outputs": [
    {
     "name": "stdout",
     "output_type": "stream",
     "text": [
      "not yet\n",
      "not yet\n",
      "not yet\n",
      "not yet\n",
      "not yet\n",
      "not yet\n",
      "not yet\n",
      "not yet\n",
      "not yet\n",
      "not yet\n",
      "not yet\n",
      "not yet\n",
      "not yet\n",
      "not yet\n",
      "not yet\n",
      "not yet\n",
      "not yet\n"
     ]
    },
    {
     "ename": "KeyboardInterrupt",
     "evalue": "",
     "output_type": "error",
     "traceback": [
      "\u001b[0;31m---------------------------------------------------------------------------\u001b[0m",
      "\u001b[0;31mKeyboardInterrupt\u001b[0m                         Traceback (most recent call last)",
      "\u001b[0;32m<ipython-input-1-5b0b69664c9f>\u001b[0m in \u001b[0;36m<module>\u001b[0;34m\u001b[0m\n\u001b[1;32m     13\u001b[0m     \u001b[0;32melse\u001b[0m\u001b[0;34m:\u001b[0m\u001b[0;34m\u001b[0m\u001b[0;34m\u001b[0m\u001b[0m\n\u001b[1;32m     14\u001b[0m         \u001b[0mprint\u001b[0m\u001b[0;34m(\u001b[0m\u001b[0;34m\"not yet\"\u001b[0m\u001b[0;34m)\u001b[0m\u001b[0;34m\u001b[0m\u001b[0;34m\u001b[0m\u001b[0m\n\u001b[0;32m---> 15\u001b[0;31m         \u001b[0mtime\u001b[0m\u001b[0;34m.\u001b[0m\u001b[0msleep\u001b[0m\u001b[0;34m(\u001b[0m\u001b[0;36m1\u001b[0m\u001b[0;34m)\u001b[0m\u001b[0;34m\u001b[0m\u001b[0;34m\u001b[0m\u001b[0m\n\u001b[0m\u001b[1;32m     16\u001b[0m \u001b[0;31m#    if (hour == datetime.datetime.now().housr and minute == datetime.datetime.now().minute):\u001b[0m\u001b[0;34m\u001b[0m\u001b[0;34m\u001b[0m\u001b[0;34m\u001b[0m\u001b[0m\n\u001b[1;32m     17\u001b[0m \u001b[0;31m#        break\u001b[0m\u001b[0;34m\u001b[0m\u001b[0;34m\u001b[0m\u001b[0;34m\u001b[0m\u001b[0m\n",
      "\u001b[0;31mKeyboardInterrupt\u001b[0m: "
     ]
    }
   ],
   "source": [
    "#based on; https://www.youtube.com/watch?v=fwMdqqu_yOQ&ab_channel=MaxCodez\n",
    "# works, but the audio won't play..\n",
    "\n",
    "import time\n",
    "from playsound import playsound\n",
    "from datetime import datetime\n",
    "alarmtime = \"13:08\"  #in military time\n",
    "\n",
    "while True:\n",
    "    lcltime = datetime.now().strftime('%H:%M') #it's in military time\n",
    "    if lcltime == alarmtime:\n",
    "        playsound(\"shia_labeouf.wav\")\n",
    "        break\n",
    "    else:\n",
    "        print(\"not yet\")\n",
    "        time.sleep(1)\n",
    "#    if (hour == datetime.datetime.now().housr and minute == datetime.datetime.now().minute):       \n",
    "#        break\n",
    "\n",
    "\n",
    "\n"
   ]
  },
  {
   "cell_type": "code",
   "execution_count": null,
   "metadata": {},
   "outputs": [],
   "source": []
  }
 ],
 "metadata": {
  "kernelspec": {
   "display_name": "Python 3",
   "language": "python",
   "name": "python3"
  },
  "language_info": {
   "codemirror_mode": {
    "name": "ipython",
    "version": 3
   },
   "file_extension": ".py",
   "mimetype": "text/x-python",
   "name": "python",
   "nbconvert_exporter": "python",
   "pygments_lexer": "ipython3",
   "version": "3.7.4"
  }
 },
 "nbformat": 4,
 "nbformat_minor": 2
}
